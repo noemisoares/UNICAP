{
  "metadata": {
    "kernelspec": {
      "name": "python",
      "display_name": "Python (Pyodide)",
      "language": "python"
    },
    "language_info": {
      "codemirror_mode": {
        "name": "python",
        "version": 3
      },
      "file_extension": ".py",
      "mimetype": "text/x-python",
      "name": "python",
      "nbconvert_exporter": "python",
      "pygments_lexer": "ipython3",
      "version": "3.8"
    }
  },
  "nbformat_minor": 4,
  "nbformat": 4,
  "cells": [
    {
      "cell_type": "code",
      "source": "#Códigos de Sistemas Lineares - Algébra Linear\n",
      "metadata": {
        "trusted": true
      },
      "outputs": [],
      "execution_count": 10
    },
    {
      "cell_type": "markdown",
      "source": "**ENCONTRE A SOLUÇÃO DOS SISTEMAS**",
      "metadata": {}
    },
    {
      "cell_type": "markdown",
      "source": "**Sistema 1**",
      "metadata": {}
    },
    {
      "cell_type": "code",
      "source": "# importando a biblioteca numpy\nimport numpy as np ",
      "metadata": {
        "trusted": true
      },
      "outputs": [],
      "execution_count": 11
    },
    {
      "cell_type": "code",
      "source": "# declarar as matrizes do exemplo acima\nA = np.array([[1,0,5,8],[5,0,0,-4.5],[0,4,2.5,-0.7],[8,-0.8,-5,8]])\nB = np.array([[-7],[2],[-1],[-0.15]])\n\n# Encontrar a inversa de A\nA_I = np.linalg.inv(A) #Função que encontra a matriz inversa\n\n# Encontrando X\nX = np.dot(A_I,B) # Função que realiza mutiplicação entre matrizes sem especificador de tipo\n# X = np.linalg.solve(A,B) #Função alternativa que resolve Sistemas Lineares",
      "metadata": {
        "trusted": true
      },
      "outputs": [],
      "execution_count": 23
    },
    {
      "cell_type": "code",
      "source": "# imprime a matriz A dos coeficientes de X e Y\nprint(\"{}\".format(A)) ",
      "metadata": {
        "trusted": true
      },
      "outputs": [
        {
          "name": "stdout",
          "text": "[[ 1.   0.   5.   8. ]\n [ 5.   0.   0.  -4.5]\n [ 0.   4.   2.5 -0.7]\n [ 8.  -0.8 -5.   8. ]]\n",
          "output_type": "stream"
        }
      ],
      "execution_count": 24
    },
    {
      "cell_type": "code",
      "source": "# imprime a matriz A inversa\nprint(\"{}\".format(A_I)) ",
      "metadata": {
        "trusted": true
      },
      "outputs": [
        {
          "name": "stdout",
          "text": "[[ 0.03511053  0.13055917  0.00780234  0.0390117 ]\n [-0.07477243 -0.07433897  0.26116168  0.05580841]\n [ 0.13055917  0.09733853 -0.0154313  -0.07715648]\n [ 0.0390117  -0.07715648  0.00866927  0.04334634]]\n",
          "output_type": "stream"
        }
      ],
      "execution_count": 25
    },
    {
      "cell_type": "code",
      "source": "# imprime a matriz B resultado dos sistemas lineares\nprint(\"{}\".format(B)) ",
      "metadata": {
        "trusted": true
      },
      "outputs": [
        {
          "name": "stdout",
          "text": "[[-7.  ]\n [ 2.  ]\n [-1.  ]\n [-0.15]]\n",
          "output_type": "stream"
        }
      ],
      "execution_count": 26
    },
    {
      "cell_type": "code",
      "source": "# imprime a matrix , o  conjunto solução desse sistema\nprint(\"{}\".format(X)) ",
      "metadata": {
        "trusted": true
      },
      "outputs": [
        {
          "name": "stdout",
          "text": "[[ 0.00169051]\n [ 0.10519614]\n [-0.69223234]\n [-0.4425661 ]]\n",
          "output_type": "stream"
        }
      ],
      "execution_count": 27
    },
    {
      "cell_type": "markdown",
      "source": "**Sistema 2**",
      "metadata": {}
    },
    {
      "cell_type": "code",
      "source": "# declarar as matrizes do exemplo acima\nA = np.array([[-0.53,0.33,5,-8,1,-1,1],[1,0,5,0,0,0,0],[0,-1.14,8.7,9.71,0,0,-8],\n              [0,0,0,0,0,5,-8],[0,0,-1.14,14,-5,0,0],[0,0,8,0,0,5,-9],[0,0,0,0,1,0,0]])\nB = np.array([[0],[7],[8.2],[0],[-1],[9.7],[-14]])\n\n# Encontrar a inversa de A\nA_I = np.linalg.inv(A) #Função que encontra a matriz inversa\n\n# Encontrando X\nX = np.dot(A_I,B) # Função que realiza mutiplicação entre matrizes sem especificador de tipo\n# X = np.linalg.solve(A,B) #Função alternativa que resolve Sistemas Lineares",
      "metadata": {
        "trusted": true
      },
      "outputs": [],
      "execution_count": 34
    },
    {
      "cell_type": "code",
      "source": "# imprime a matriz A dos coeficientes de X e Y\nprint(\"{}\".format(A)) ",
      "metadata": {
        "trusted": true
      },
      "outputs": [
        {
          "name": "stdout",
          "text": "[[-0.53  0.33  5.   -8.    1.   -1.    1.  ]\n [ 1.    0.    5.    0.    0.    0.    0.  ]\n [ 0.   -1.14  8.7   9.71  0.    0.   -8.  ]\n [ 0.    0.    0.    0.    0.    5.   -8.  ]\n [ 0.    0.   -1.14 14.   -5.    0.    0.  ]\n [ 0.    0.    8.    0.    0.    5.   -9.  ]\n [ 0.    0.    0.    0.    1.    0.    0.  ]]\n",
          "output_type": "stream"
        }
      ],
      "execution_count": 35
    },
    {
      "cell_type": "code",
      "source": "# imprime a matriz A inversa\nprint(\"{}\".format(A_I)) ",
      "metadata": {
        "trusted": true
      },
      "outputs": [
        {
          "name": "stdout",
          "text": "[[ 3.68176455e-01  1.19513352e+00  1.06577395e-01  1.14716032e+00\n   1.36467510e-01 -1.07352503e+00  3.14161093e-01]\n [ 3.52088620e+00  1.86606969e+00  1.42010918e-01  3.95279631e+00\n   1.91344026e+00 -3.24861907e+00  6.04631508e+00]\n [-7.36352910e-02 -3.90267042e-02 -2.13154790e-02 -2.29432065e-01\n  -2.72935019e-02  2.14705006e-01 -6.28322187e-02]\n [-5.99601655e-03 -3.17788877e-03 -1.73568900e-03 -1.86823253e-02\n   6.92061006e-02  1.74831219e-02  3.52026519e-01]\n [ 0.00000000e+00  0.00000000e+00  0.00000000e+00  0.00000000e+00\n   0.00000000e+00  0.00000000e+00  1.00000000e+00]\n [-9.42531725e-01 -4.99541814e-01 -2.72838131e-01 -1.13673043e+00\n  -3.49356825e-01  1.14822408e+00 -8.04252399e-01]\n [-5.89082328e-01 -3.12213634e-01 -1.70523832e-01 -8.35456517e-01\n  -2.18348015e-01  7.17640051e-01 -5.02657750e-01]]\n",
          "output_type": "stream"
        }
      ],
      "execution_count": 36
    },
    {
      "cell_type": "code",
      "source": "# imprime a matriz B resultado dos sistemas lineares\nprint(\"{}\".format(B)) ",
      "metadata": {
        "trusted": true
      },
      "outputs": [
        {
          "name": "stdout",
          "text": "[[  0. ]\n [  7. ]\n [  8.2]\n [  0. ]\n [ -1. ]\n [  9.7]\n [-14. ]]\n",
          "output_type": "stream"
        }
      ],
      "execution_count": 37
    },
    {
      "cell_type": "code",
      "source": "# imprime a matrix , o  conjunto solução desse sistema\nprint(\"{}\".format(X)) ",
      "metadata": {
        "trusted": true
      },
      "outputs": [
        {
          "name": "stdout",
          "text": "[[  -5.70804634]\n [-103.84647906]\n [   2.54160927]\n [  -4.86446896]\n [ -14.        ]\n [  17.01259863]\n [  10.63287415]]\n",
          "output_type": "stream"
        }
      ],
      "execution_count": 38
    },
    {
      "cell_type": "code",
      "source": "",
      "metadata": {
        "trusted": true
      },
      "outputs": [],
      "execution_count": null
    }
  ]
}
