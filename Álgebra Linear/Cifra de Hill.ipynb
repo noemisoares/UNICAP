{
 "cells": [
  {
   "cell_type": "code",
   "execution_count": 1,
   "metadata": {},
   "outputs": [],
   "source": [
    "#Códigos de Criptografia e Descriptografia de Cifra de Hill - Algébra Linear\n"
   ]
  },
  {
   "cell_type": "markdown",
   "metadata": {},
   "source": [
    "CRIPTOGRAFIA COM Ç, Á, À, Â, Ã, É, Ê, Í, Ó, Ô, Õ e Ú"
   ]
  },
  {
   "cell_type": "code",
   "execution_count": 2,
   "metadata": {},
   "outputs": [],
   "source": [
    "import numpy as numpy "
   ]
  },
  {
   "cell_type": "code",
   "execution_count": 3,
   "metadata": {},
   "outputs": [],
   "source": [
    "def equivalenteDecimal(letra):\n",
    "\n",
    "    alfabeto = \"zabcdefghijklmnopqrstuvwxyçáàâãéêíóôõú\" #Adicionando as novas letras com acentos\n",
    "    \n",
    "    return(alfabeto.find(letra))"
   ]
  },
  {
   "cell_type": "code",
   "execution_count": 4,
   "metadata": {},
   "outputs": [],
   "source": [
    "def equivalenteAlfabetico(numero):\n",
    "\n",
    "    alfabeto = \"zabcdefghijklmnopqrstuvwxyçáàâãéêíóôõú\" #Adicionando as novas letras com acentos\n",
    "\n",
    "    return(alfabeto[numero])"
   ]
  },
  {
   "cell_type": "code",
   "execution_count": 5,
   "metadata": {},
   "outputs": [
    {
     "name": "stdout",
     "output_type": "stream",
     "text": [
      "à\n"
     ]
    }
   ],
   "source": [
    "print(equivalenteAlfabetico(28)) #Testando se os numeros direcionados aos acentos estão sendo lidos "
   ]
  },
  {
   "cell_type": "code",
   "execution_count": 6,
   "metadata": {},
   "outputs": [],
   "source": [
    "A = numpy.array([[5,6],[2,3]])"
   ]
  },
  {
   "cell_type": "code",
   "execution_count": 7,
   "metadata": {},
   "outputs": [],
   "source": [
    "def cifraHill(texto,chave):\n",
    "\n",
    "    codigo = \"\"\n",
    "    \n",
    "    valorNumerico = numpy.empty([2,1], dtype = int)\n",
    "    valorCodificado = numpy.empty([2,1], dtype = int)\n",
    "    \n",
    "    for indice in range(0, len(texto)):\n",
    "        \n",
    "        if(indice == 0 or indice % 2 == 0):\n",
    "            valor = equivalenteDecimal(texto[indice]) \n",
    "            valorNumerico[0][0] = valor \n",
    "    \n",
    "        if(indice != 0 and indice % 2 != 0):\n",
    "            valor = equivalenteDecimal(texto[indice])  \n",
    "            valorNumerico[1][0] = valor \n",
    "\n",
    "        if(indice != 0 and indice % 2 != 0):\n",
    "            valorCodificado = numpy.dot(chave, valorNumerico)\n",
    "\n",
    "            if(valorCodificado[0][0] > 37): #Novo valor de 37 para as 38 letras (0 até 37)\n",
    "                valorCodificado[0][0] = (valorCodificado[0][0] % 38) #Novo valor para as 38 letras\n",
    "\n",
    "            if(valorCodificado[1][0] > 37): #Novo valor de 37 para as 38 letras (0 até 37)\n",
    "                valorCodificado[1][0] = (valorCodificado[1][0] % 38) #Novo valor para as 38 letras\n",
    "\n",
    "            a = str(equivalenteAlfabetico(valorCodificado[0][0]))\n",
    "            b = str(equivalenteAlfabetico(valorCodificado[1][0])) \n",
    "        \n",
    "            codigo += a\n",
    "            codigo += b\n",
    "\n",
    "    codigo = codigo[len(codigo) - len(texto): len(codigo)]\n",
    "\n",
    "    return codigo"
   ]
  },
  {
   "cell_type": "code",
   "execution_count": 8,
   "metadata": {},
   "outputs": [],
   "source": [
    "def inserirFrase():\n",
    "    \n",
    "    texto = \"\" \n",
    "    texto = str(input(\"Informe um texto sem acentos: \")) \n",
    "    texto = texto.replace(\" \", \"\") \n",
    "    texto = texto.lower()\n",
    "    \n",
    "    if(len(texto) % 2 != 0):\n",
    "        texto += \"g\" \n",
    "    \n",
    "    print(\"o texto é: {}\".format(texto)) \n",
    "    \n",
    "    return texto "
   ]
  },
  {
   "cell_type": "code",
   "execution_count": 9,
   "metadata": {},
   "outputs": [
    {
     "name": "stdout",
     "output_type": "stream",
     "text": [
      "o texto é: maça\n"
     ]
    }
   ],
   "source": [
    "texto = inserirFrase()"
   ]
  },
  {
   "cell_type": "code",
   "execution_count": 10,
   "metadata": {},
   "outputs": [
    {
     "data": {
      "text/plain": [
       "'íâvq'"
      ]
     },
     "execution_count": 10,
     "metadata": {},
     "output_type": "execute_result"
    }
   ],
   "source": [
    "cifraHill(texto, A)"
   ]
  },
  {
   "cell_type": "markdown",
   "metadata": {},
   "source": [
    "DESCRIPTOGRAFIA COM Ç, Á, À, Â, Ã, É, Ê, Í, Ó, Ô, Õ e Ú"
   ]
  },
  {
   "cell_type": "code",
   "execution_count": 11,
   "metadata": {},
   "outputs": [],
   "source": [
    "A = numpy.array([[5,6],[2,3]]) \n",
    "residuo = (A[0][0] * A[1][1] - A[0][1] * A[1][0]) % 38 #Novo valor para as 38 letras"
   ]
  },
  {
   "cell_type": "code",
   "execution_count": 12,
   "metadata": {},
   "outputs": [
    {
     "name": "stdout",
     "output_type": "stream",
     "text": [
      "[[5 6]\n",
      " [2 3]]\n"
     ]
    }
   ],
   "source": [
    "print(\"{}\".format(A)) "
   ]
  },
  {
   "cell_type": "code",
   "execution_count": 13,
   "metadata": {},
   "outputs": [
    {
     "name": "stdout",
     "output_type": "stream",
     "text": [
      "3\n"
     ]
    }
   ],
   "source": [
    "print(\"{}\".format(residuo))"
   ]
  },
  {
   "cell_type": "code",
   "execution_count": 14,
   "metadata": {},
   "outputs": [],
   "source": [
    "reciproco = 13 #Nova Reciproca para o valor de 38. 3 x 13 é aproximadamente 37\n",
    "descriptografia = numpy.array([[A[1][1], -A[0][1]], [-A[1][0], A[0][0]]]) \n",
    "descriptografia *= reciproco \n",
    "descriptografia %= 38"
   ]
  },
  {
   "cell_type": "code",
   "execution_count": 15,
   "metadata": {},
   "outputs": [
    {
     "name": "stdout",
     "output_type": "stream",
     "text": [
      "[[ 1 36]\n",
      " [12 27]]\n"
     ]
    }
   ],
   "source": [
    "print(\"{}\".format(descriptografia)) "
   ]
  },
  {
   "cell_type": "code",
   "execution_count": 16,
   "metadata": {},
   "outputs": [],
   "source": [
    "cifra = \"íâvq\" "
   ]
  },
  {
   "cell_type": "code",
   "execution_count": 17,
   "metadata": {},
   "outputs": [
    {
     "data": {
      "text/plain": [
       "'maça'"
      ]
     },
     "execution_count": 17,
     "metadata": {},
     "output_type": "execute_result"
    }
   ],
   "source": [
    "cifraHill(cifra,descriptografia) "
   ]
  }
 ],
 "metadata": {
  "kernelspec": {
   "display_name": "Python 3",
   "language": "python",
   "name": "python3"
  },
  "language_info": {
   "codemirror_mode": {
    "name": "ipython",
    "version": 3
   },
   "file_extension": ".py",
   "mimetype": "text/x-python",
   "name": "python",
   "nbconvert_exporter": "python",
   "pygments_lexer": "ipython3",
   "version": "3.12.0"
  }
 },
 "nbformat": 4,
 "nbformat_minor": 2
}
