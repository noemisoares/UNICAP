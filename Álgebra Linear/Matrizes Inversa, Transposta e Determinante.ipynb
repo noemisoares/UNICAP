{
  "metadata": {
    "kernelspec": {
      "name": "python",
      "display_name": "Python (Pyodide)",
      "language": "python"
    },
    "language_info": {
      "codemirror_mode": {
        "name": "python",
        "version": 3
      },
      "file_extension": ".py",
      "mimetype": "text/x-python",
      "name": "python",
      "nbconvert_exporter": "python",
      "pygments_lexer": "ipython3",
      "version": "3.8"
    }
  },
  "nbformat_minor": 4,
  "nbformat": 4,
  "cells": [
    {
      "cell_type": "code",
      "source": "#Resumo dos Códigos de Matrizes Inversa, Transposta e Determinante - Algébra Linear\n#Aluna: Noemi Soares Gonçalves da Silva  RA:00000851329",
      "metadata": {
        "trusted": true
      },
      "outputs": [],
      "execution_count": 1
    },
    {
      "cell_type": "markdown",
      "source": "# Matriz Transposta\n#### A transposta de uma matriz MA é uma matriz que possui os mesmos elementos de MA, mas postos em posições diferentes. Pode-se obter transportando ordenadamente os elementos das linhas de MA para as colunas de MA transposta.",
      "metadata": {}
    },
    {
      "cell_type": "code",
      "source": "import numpy as np # importando a biblioteca numpy padrão do Python",
      "metadata": {},
      "outputs": [],
      "execution_count": 1
    },
    {
      "cell_type": "code",
      "source": "# criando a função de matriz transposta\ndef transposta():\n    \n    # recebe a quantidade de linhas da matriz\n    linha = int(input(\"Informe quantas linhas tem sua matriz: \")) \n    # recebe a quantidade de colunas da matriz\n    coluna = int(input(\"Informe quantas colunas tem sua matriz: \")) \n    \n    # comandos de ir para a próxima linha\n    print(\"\\n\") \n    \n    # iniciando uma matriz de números reais com linhas e colunas definidas\n    A = np.empty([linha,coluna], dtype = float)\n\n    # estrutura for aninhada que recebe os elementos da matriz\n    for i in range(0, linha):\n        for j in range(0, coluna):\n            A[i][j] = float(input(\"Insira o elemento [{}][{}] da matriz: \".format(i + 1,j + 1)))\n\n    #imprime na tela a matriz original\n    print(\"\\n\\nA matriz digitada é:\\n\\n{}\\n\\n\".format(A))\n\n    # definindo a matriz transposta com uma função do numpy\n    A_T = np.transpose(A) \n\n    # imprime na tela a matriz transposta\n    print(\"A matriz transposta é:\\n\\n{}\\n\\n\". format(A_T))\n\n    # definindo a matriz transposta da matriz A_T, voltando a ser a matriz A\n    A = np.transpose(A_T)\n\n    # imprime na tela a matriz tranposta da mesma já transposta, ou seja, retornará a matriz original\n    print(\"A matriz transposta da transpostada é:\\n\\n{}\".format(A))\n    \n    # função não retorna nenhum valor\n    return None",
      "metadata": {},
      "outputs": [],
      "execution_count": 2
    },
    {
      "cell_type": "code",
      "source": "# imprimindo a função criada\ntransposta()",
      "metadata": {},
      "outputs": [
        {
          "name": "stdout",
          "output_type": "stream",
          "text": [
            "Informe quantas linhas tem sua matriz:  2\n",
            "Informe quantas colunas tem sua matriz:  3\n"
          ]
        },
        {
          "name": "stdout",
          "output_type": "stream",
          "text": [
            "\n",
            "\n"
          ]
        },
        {
          "name": "stdout",
          "output_type": "stream",
          "text": [
            "Insira o elemento [1][1] da matriz:  1\n",
            "Insira o elemento [1][2] da matriz:  2\n",
            "Insira o elemento [1][3] da matriz:  3\n",
            "Insira o elemento [2][1] da matriz:  4\n",
            "Insira o elemento [2][2] da matriz:  5\n",
            "Insira o elemento [2][3] da matriz:  6\n"
          ]
        },
        {
          "name": "stdout",
          "output_type": "stream",
          "text": [
            "\n",
            "\n",
            "A matriz digitada é:\n",
            "\n",
            "[[1. 2. 3.]\n",
            " [4. 5. 6.]]\n",
            "\n",
            "\n",
            "A matriz transposta é:\n",
            "\n",
            "[[1. 4.]\n",
            " [2. 5.]\n",
            " [3. 6.]]\n",
            "\n",
            "\n",
            "A matriz transposta da transpostada é:\n",
            "\n",
            "[[1. 2. 3.]\n",
            " [4. 5. 6.]]\n"
          ]
        }
      ],
      "execution_count": 3
    },
    {
      "cell_type": "markdown",
      "source": "# Matriz Inversa\n#### A matriz inversa ou matriz invertível é um tipo de matriz quadrada, ou seja, que possui o mesmo número de linhas (m) e colunas (n). Ela ocorre quando o produto de duas matrizes resulta numa matriz identidade de mesma ordem (mesmo número de linhas e colunas).",
      "metadata": {}
    },
    {
      "cell_type": "code",
      "source": "# importando a biblioteca de funções numpy\nimport numpy as np ",
      "metadata": {},
      "outputs": [],
      "execution_count": 1
    },
    {
      "cell_type": "code",
      "source": "# função que calcula a matriz inversa\ndef inversa():\n\n    print(\"Progama que calcula a matriz inversa\")\n\n    # variáveis que recebem a quantidade de linhas e colunas da matriz\n    linha = int(input(\"Informe a quantidade de linhas da sua matriz: \"))\n    coluna = int(input(\"Informe a quantidade de colunas de sua matriz: \"))\n\n    # inicializando a matriz com seu devido tamanho\n    matriz = np.empty([linha,coluna], dtype = float)\n\n    # estrutura de repetição for que permite introduzir os elementos da matriz\n    for i in range(0, linha):\n        for j in range(0, coluna):\n            matriz[i][j] = float(input(\"Insira o elemento [{}][{}] da matriz: \".format(i + 1, j + 1)))\n\n    # imprime a matriz digitada na tela\n    print(\"\\nA matriz digitada é:\\n\\n{}\\n\\n\".format(matriz))\n\n    # calcula a matriz inversa ou retorna uma mensagem de aviso que a matriz não possui inversa\n    if(np.linalg.det(matriz) != 0):\n        inversa = np.linalg.pinv(matriz)\n        #imprime a matriz inversa\n        print(\"A matriz inversa é:\\n\\n{}\\n\\n\".format(inversa))\n    else:\n        print(\"\\nA matriz não é inversível.\")\n        \n    # função não retorna nenhum valor\n    return None",
      "metadata": {},
      "outputs": [],
      "execution_count": 2
    },
    {
      "cell_type": "code",
      "source": "# imprimindo a função inversa\ninversa()",
      "metadata": {},
      "outputs": [
        {
          "name": "stdout",
          "output_type": "stream",
          "text": [
            "Progama que calcula a matriz inversa\n"
          ]
        },
        {
          "name": "stdout",
          "output_type": "stream",
          "text": [
            "Informe a quantidade de linhas da sua matriz:  3\n",
            "Informe a quantidade de colunas de sua matriz:  3\n",
            "Insira o elemento [1][1] da matriz:  1\n",
            "Insira o elemento [1][2] da matriz:  5\n",
            "Insira o elemento [1][3] da matriz:  6\n",
            "Insira o elemento [2][1] da matriz:  2\n",
            "Insira o elemento [2][2] da matriz:  5\n",
            "Insira o elemento [2][3] da matriz:  8\n",
            "Insira o elemento [3][1] da matriz:  2\n",
            "Insira o elemento [3][2] da matriz:  5\n",
            "Insira o elemento [3][3] da matriz:  7\n"
          ]
        },
        {
          "name": "stdout",
          "output_type": "stream",
          "text": [
            "\n",
            "A matriz digitada é:\n",
            "\n",
            "[[1. 5. 6.]\n",
            " [2. 5. 8.]\n",
            " [2. 5. 7.]]\n",
            "\n",
            "\n",
            "A matriz inversa é:\n",
            "\n",
            "[[-1.00000000e+00 -1.00000000e+00  2.00000000e+00]\n",
            " [ 4.00000000e-01 -1.00000000e+00  8.00000000e-01]\n",
            " [-1.58676765e-16  1.00000000e+00 -1.00000000e+00]]\n",
            "\n",
            "\n"
          ]
        }
      ],
      "execution_count": 3
    },
    {
      "cell_type": "markdown",
      "source": "# Determinante ",
      "metadata": {}
    },
    {
      "cell_type": "code",
      "source": "# Importa Funções da biblioteca Numpy\nimport numpy as np ",
      "metadata": {},
      "outputs": [],
      "execution_count": 1
    },
    {
      "cell_type": "code",
      "source": "# função que calcula o determinante de uma matriz\ndef determinante():\n    \n    # Recebe a ordem da matriz\n    qtd = int(input('Informe o ordem da matriz: ')) \n    \n    # Inicializa a matriz, ainda com 'lixo de endereços de memória' nele\n    matriz = np.empty([qtd, qtd], dtype = float) \n    print('\\n')\n\n    #Adiciona elementos na matriz\n    for i in range(0, qtd):\n        for j in range(0, qtd):\n            matriz[i][j] = float(input('Digite [{}][{}] da matriz: '.format(i + 1, j + 1)))\n\n    #Imprime a matriz\n    print('\\nA matriz é:\\n', matriz)\n\n    #a variável 'determinante' recebe o determinante da matriz\n    determinante = np.linalg.det(matriz)\n\n    #Imprime o determinante\n    print('\\nO determinante da matriz é: {:.2f}.'.format(determinante))\n    \n    # função não retorna nada\n    return None",
      "metadata": {},
      "outputs": [],
      "execution_count": 2
    },
    {
      "cell_type": "code",
      "source": "# imprimindo a função determinante\ndeterminante()",
      "metadata": {},
      "outputs": [
        {
          "name": "stdout",
          "output_type": "stream",
          "text": [
            "Informe o ordem da matriz:  3\n"
          ]
        },
        {
          "name": "stdout",
          "output_type": "stream",
          "text": [
            "\n",
            "\n"
          ]
        },
        {
          "name": "stdout",
          "output_type": "stream",
          "text": [
            "Digite [1][1] da matriz:  1\n",
            "Digite [1][2] da matriz:  2\n",
            "Digite [1][3] da matriz:  3\n",
            "Digite [2][1] da matriz:  3\n",
            "Digite [2][2] da matriz:  4\n",
            "Digite [2][3] da matriz:  4\n",
            "Digite [3][1] da matriz:  7\n",
            "Digite [3][2] da matriz:  8\n",
            "Digite [3][3] da matriz:  9\n"
          ]
        },
        {
          "name": "stdout",
          "output_type": "stream",
          "text": [
            "\n",
            "A matriz é:\n",
            " [[1. 2. 3.]\n",
            " [3. 4. 4.]\n",
            " [7. 8. 9.]]\n",
            "\n",
            "O determinante da matriz é: -6.00.\n"
          ]
        }
      ],
      "execution_count": 3
    }
  ]
}