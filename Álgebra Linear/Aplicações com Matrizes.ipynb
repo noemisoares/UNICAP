{
  "cells": [
    {
      "cell_type": "code",
      "source": [
        "#Código Aplicações com Matrizes - Algébra Linear\n"
      ],
      "outputs": [],
      "execution_count": 1,
      "metadata": {
        "trusted": true
      }
    },
    {
      "cell_type": "markdown",
      "source": [
        "## Aplicação 2: Atividade para ser entregue no final da aula\n",
        "## Gestão Financeira de uma Empresa"
      ],
      "metadata": {}
    },
    {
      "cell_type": "code",
      "source": [
        "# importando a biblioteca numpy do Python\n",
        "import numpy as np\n",
        "# importando a biblioteca de funções do Python matplotlib\n",
        "import matplotlib \n",
        "import matplotlib.pyplot as plt\n",
        "%matplotlib inline  "
      ],
      "outputs": [],
      "execution_count": 2,
      "metadata": {
        "trusted": true
      }
    },
    {
      "cell_type": "markdown",
      "source": [
        "Uma empresa fabrica três produtos. Suas despesas de produção estão divididas em três categorias. Em cada uma dessas categorias, faz-se uma estimativa do custo de produção de um único exemplar de cada produto. Faz-se, também, uma estimativa da quantidade de cada produto a ser fabricado por trimestre. Essas estimativas são dadas na **tabela 3** e na **tabela 4**. A empresa gostaria de apresentar a seus acionistas uma única tabela mostrando o custo total por **trimestre** de cada uma das três categorias: **matéria- prima**, **pessoal** e **despesas gerais**."
      ],
      "metadata": {}
    },
    {
      "cell_type": "markdown",
      "source": [
        "#### Tabela 3. Custo de Produção por Item (em reais)"
      ],
      "metadata": {}
    },
    {
      "cell_type": "markdown",
      "source": [
        "|**Gastos**     |**Produto A**|**Produto B**|**Produto C**|\n",
        "|:-------------:|:-----------:|:-----------:|:-----------:|\n",
        "|Matéria-prima  |0.10         |0.30         |0.15         |\n",
        "|Pessoal        |0.30         |0.40         |0.25         |\n",
        "|Despesas-gerais|0.10         |0.20         |0.15         |"
      ],
      "metadata": {}
    },
    {
      "cell_type": "markdown",
      "source": [
        "<div class=\"alert alert-info\">\n",
        "     \n",
        "**Atividade**\n",
        "    \n",
        " Represente a matriz $C$ baseada na tabela 3 e imprima a matriz $C$ para ser visualizada \n",
        "     \n",
        "    \n",
        "</div>\n",
        "\n"
      ],
      "metadata": {}
    },
    {
      "cell_type": "code",
      "source": [
        "# definindo a matriz C a partir da tabela 3\n",
        "C = np.array([[0.10, 0.30, 0.15],\n",
        "              [0.30, 0.40, 0.25],\n",
        "              [0.10, 0.20, 0.15]])\n",
        "\n",
        "# imprimindo a matriz C\n",
        "print(\"A matriz C é\\n\\n\", C)"
      ],
      "outputs": [
        {
          "output_type": "stream",
          "name": "stdout",
          "text": "A matriz C é\n\n [[0.1  0.3  0.15]\n [0.3  0.4  0.25]\n [0.1  0.2  0.15]]\n"
        }
      ],
      "execution_count": 3,
      "metadata": {
        "trusted": true
      }
    },
    {
      "cell_type": "markdown",
      "source": [
        "###### Tabela 4. Quantidade Produzida por Trimestre"
      ],
      "metadata": {}
    },
    {
      "cell_type": "markdown",
      "source": [
        "|**Produto**|**Verão**|**Outono**|**Inverno**|**Primavera**|\n",
        "|:---------:|:-------:|:--------:|:---------:|:-----------:|\n",
        "|A          |4000     |4500      |4500       |4000         |\n",
        "|B          |2000     |2600      |2400       |2200         |\n",
        "|C          |5800     |6200      |6000       |6000         |"
      ],
      "metadata": {}
    },
    {
      "cell_type": "markdown",
      "source": [
        "<div class=\"alert alert-info\">\n",
        "     \n",
        "**Atividade**\n",
        "    \n",
        " Represente a matriz $D$ baseada na tabela 4 e imprima a matriz $D$ para ser visualizada \n",
        "     \n",
        "</div>"
      ],
      "metadata": {}
    },
    {
      "cell_type": "code",
      "source": [
        "# definindo a matriz D a partir da tabela 4\n",
        "D = np.array([[4000, 4500, 4500, 4000],\n",
        "              [2000, 2600, 2400, 2200],\n",
        "              [5800, 6200, 6000, 6000]])\n",
        "\n",
        "# imprimindo a matriz D\n",
        "print(\"A matriz D é\\n\\n\", D)"
      ],
      "outputs": [
        {
          "output_type": "stream",
          "name": "stdout",
          "text": "A matriz D é\n\n [[4000 4500 4500 4000]\n [2000 2600 2400 2200]\n [5800 6200 6000 6000]]\n"
        }
      ],
      "execution_count": 4,
      "metadata": {
        "trusted": true
      }
    },
    {
      "cell_type": "markdown",
      "source": [
        "<div class=\"alert alert-info\">\n",
        "     \n",
        "**Atividade**\n",
        "    \n",
        "Se fizermos o produto $CD$, teremos o custo de cada categoria por trimestre. Faça o produto entre matrizes utilizando a função da biblioteca *-Numpy-*\n",
        "     \n",
        "</div>\n",
        "\n",
        "\n"
      ],
      "metadata": {}
    },
    {
      "cell_type": "code",
      "source": [
        "# realizando a multiplicação da matriz C com a matriz D\n",
        "Custos = np.dot(C, D)\n",
        "\n",
        "# imprime a matriz de custos por trimeste em cada categoria, em reais\n",
        "print(\"A matriz de Custos é:\\n\\n\", Custos)"
      ],
      "outputs": [
        {
          "output_type": "stream",
          "name": "stdout",
          "text": "A matriz de Custos é:\n\n [[1870. 2160. 2070. 1960.]\n [3450. 3940. 3810. 3580.]\n [1670. 1900. 1830. 1740.]]\n"
        }
      ],
      "execution_count": 5,
      "metadata": {
        "trusted": true
      }
    },
    {
      "cell_type": "markdown",
      "source": [
        "Compare sua matriz de Custos e termine de prencher a tabela abaixo\n",
        "\n",
        "|**Custos de cada Categoria por Trimeste**|**Verão**|**Outono**|**Inverno**|**Primavera**|\n",
        "|:---------------------------------------:|:-------:|:--------:|:---------:|:-----------:|\n",
        "|Matéria-prima                            |1870     |2160      |2070       |1960         |     \n",
        "|Pessoal                                  |3450     |3940      |3810       |3580        |\n",
        "|Despesas Gerais                          |1670     |1900      |1830       |1740         |"
      ],
      "metadata": {}
    },
    {
      "cell_type": "code",
      "source": [
        "# esquematizando as etiquetas do gráfico no eixo x\n",
        "Trimestres = ['Verão', 'Outono', 'Inverno', 'Primaveira']\n",
        "# definindo os valores gastos apenas na categoria Matéria-Prima\n",
        "MateriaPrima = Custos[0]\n",
        "# definindo os valores gastos apenas na categoria Pessoal\n",
        "Pessoal = Custos[1]\n",
        "# definindo os valores gastos apenas na categoria Despesas Gerais\n",
        "DespesasGerais = Custos[2]"
      ],
      "outputs": [],
      "execution_count": 6,
      "metadata": {
        "trusted": true
      }
    },
    {
      "cell_type": "markdown",
      "source": [
        "<div class=\"alert alert-info\">\n",
        "     \n",
        "**Atividade**\n",
        "    \n",
        "- Faça um gráfico onde mostre os Trimestres no eixo $x$ e  Dinheiro no eixo $y$ para a 'Matéria-Prima',  'Pessoal' e 'Despesas Gerais'\n",
        "     \n",
        "</div>\n",
        "\n",
        " \n",
        "<details>\n",
        "  <summary>\n",
        "    <font size='3', color='darkblue'>\n",
        "      <b>Dica ↓</b>\n",
        "    </font>\n",
        "  </summary>\n",
        "\n",
        "    Crie um plot para MateriaPrima, 'Pessoal', 'Despesas Gerais' \n",
        "    \n",
        "```python\n",
        "# plotando o gráfico para a categoria Matéria-Prima, com sua respectiva legenda\n",
        "plt.plot(Trimestres, MateriaPrima, label = 'Matéria-Prima')\n",
        "# plotando o gráfico para a categoria Pessoal, com sua respectiva legenda\n",
        "plt.plot(Trimestres,....)\n",
        "# plotando o gráfico para a categoria Despesas Gerais, com sua respectiva legenda\n",
        "plt.plot(Trimestres,....)\n",
        "# chamando a legenda para ser exposta no gráfico\n",
        "plt.legend()\n",
        "```\n",
        "</details>\n"
      ],
      "metadata": {}
    },
    {
      "cell_type": "code",
      "source": [
        "# definindo as dimensões do gráfico\n",
        "plt.figure(figsize=(8,5))\n",
        "# definindo a legenda do eixo x\n",
        "plt.xlabel('Trimestres')\n",
        "# definindo as legendas do eixo y\n",
        "plt.ylabel('Dinheiro')\n",
        "# plotando o gráfico e definindo três legendas\n",
        "plt.plot(Trimestres, MateriaPrima, label = 'Matéria-Prima')\n",
        "plt.plot(Trimestres, Pessoal, label = 'Pessoal')\n",
        "plt.plot(Trimestres, DespesasGerais, label = 'Despesas Gerais')\n",
        "# chamando a legenda para ser exposta no gráfico\n",
        "plt.legend()\n",
        "# definindo um input diferente de 0 para entrada verdadeira na grade do gráfico\n",
        "plt.grid(True)\n",
        "# definindo o título do gráfico\n",
        "plt.title('Custo Total por Trimestre de cada Categoria')"
      ],
      "outputs": [
        {
          "output_type": "execute_result",
          "execution_count": 14,
          "data": {
            "text/plain": "Text(0.5, 1.0, 'Custo Total por Trimestre de cada Categoria')"
          },
          "metadata": {}
        },
        {
          "output_type": "display_data",
          "data": {
            "text/plain": "<Figure size 800x500 with 1 Axes>",
            "image/png": "[encoded data removed]"
          },
          "metadata": {}
        }
      ],
      "execution_count": 14,
      "metadata": {
        "trusted": true
      }
    },
    {
      "cell_type": "markdown",
      "source": [
        "Observe que a álgebra linear pode estar presente em diversas situações do nosso dia a dia, das mais simples até as situações mais complexas da engenharia. Por esse motivo, a disciplina deve ser levada a sério e merece ser estudada com um maior grau de profundidade por parte dos estudantes."
      ],
      "metadata": {}
    }
  ],
  "metadata": {
    "kernelspec": {
      "name": "python",
      "display_name": "Python (Pyodide)",
      "language": "python"
    },
    "language_info": {
      "codemirror_mode": {
        "name": "python",
        "version": 3
      },
      "file_extension": ".py",
      "mimetype": "text/x-python",
      "name": "python",
      "nbconvert_exporter": "python",
      "pygments_lexer": "ipython3",
      "version": "3.8"
    },
    "nteract": {
      "version": "nteract-front-end@1.0.0"
    }
  },
  "nbformat": 4,
  "nbformat_minor": 4
}
