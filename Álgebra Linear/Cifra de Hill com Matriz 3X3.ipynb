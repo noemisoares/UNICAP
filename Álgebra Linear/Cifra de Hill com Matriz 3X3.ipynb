{
 "cells": [
  {
   "cell_type": "code",
   "execution_count": 1,
   "metadata": {},
   "outputs": [],
   "source": [
    "#Códigos de Criptografia de Cifra de Hill com Matrix 3x3 - Algébra Linear\n",
    "#Aluna: Noemi Soares Gonçalves da Silva  RA:00000851329"
   ]
  },
  {
   "cell_type": "markdown",
   "metadata": {},
   "source": [
    "CRIPTOGRAFIA COM MATRIZ 3X3"
   ]
  },
  {
   "cell_type": "code",
   "execution_count": 2,
   "metadata": {},
   "outputs": [],
   "source": [
    "import numpy as numpy "
   ]
  },
  {
   "cell_type": "code",
   "execution_count": 3,
   "metadata": {},
   "outputs": [],
   "source": [
    "def equivalenteDecimal(letra):\n",
    "\n",
    "    alfabeto = \"zabcdefghijklmnopqrstuvwxyçáàâãéêíóôõú\"\n",
    "    \n",
    "    return(alfabeto.find(letra))"
   ]
  },
  {
   "cell_type": "code",
   "execution_count": 4,
   "metadata": {},
   "outputs": [],
   "source": [
    "def equivalenteAlfabetico(numero):\n",
    "\n",
    "    alfabeto = \"zabcdefghijklmnopqrstuvwxyçáàâãéêíóôõú\"\n",
    "\n",
    "    return(alfabeto[numero])"
   ]
  },
  {
   "cell_type": "code",
   "execution_count": 5,
   "metadata": {},
   "outputs": [],
   "source": [
    "A = numpy.array([[5,6,7],[2,3,4],[8,9,1]])"
   ]
  },
  {
   "cell_type": "code",
   "execution_count": 6,
   "metadata": {},
   "outputs": [],
   "source": [
    "def cifraHill(texto,chave):\n",
    "\n",
    "    codigo = \"\"\n",
    " \n",
    "    valorNumerico = numpy.empty([3,1], dtype = int)\n",
    "    valorCodificado = numpy.empty([3,1], dtype = int)\n",
    " \n",
    "    for indice in range(0, len(texto)):\n",
    "\n",
    "        if(indice == 0 or indice % 3 == 0):\n",
    "            valor = equivalenteDecimal(texto[indice]) \n",
    "            valorNumerico[0][0] = valor \n",
    "\n",
    "        if(indice != 0 and indice % 3 != 0):   \n",
    "            valor = equivalenteDecimal(texto[indice])  \n",
    "            valorNumerico[1][0] = valor \n",
    "        \n",
    "        if(indice != 0 and indice % 3 != 0):   \n",
    "            valor = equivalenteDecimal(texto[indice])  \n",
    "            valorNumerico[2][0] = valor \n",
    "\n",
    "        if(indice != 0 and indice % 3 != 0):\n",
    "            valorCodificado = numpy.dot(chave, valorNumerico)\n",
    "\n",
    "            if(valorCodificado[0][0] > 37):\n",
    "                valorCodificado[0][0] = (valorCodificado[0][0] % 38)\n",
    "\n",
    "            if(valorCodificado[1][0] > 37):\n",
    "                valorCodificado[1][0] = (valorCodificado[1][0] % 38)\n",
    "\n",
    "            if(valorCodificado[2][0] > 37):\n",
    "                valorCodificado[2][0] = (valorCodificado[2][0] % 38)\n",
    "            \n",
    "        \n",
    "            a = str(equivalenteAlfabetico(valorCodificado[0][0]))\n",
    "            b = str(equivalenteAlfabetico(valorCodificado[1][0]))\n",
    "            c = str(equivalenteAlfabetico(valorCodificado[2][0]))\n",
    "\n",
    "            codigo += a\n",
    "            codigo += b\n",
    "            codigo += c\n",
    "\n",
    "    codigo = codigo[len(codigo) - len(texto): len(codigo)]\n",
    "\n",
    "    return codigo"
   ]
  },
  {
   "cell_type": "code",
   "execution_count": 7,
   "metadata": {},
   "outputs": [],
   "source": [
    "def inserirFrase():\n",
    "    \n",
    "    texto = \"\" \n",
    "    texto = str(input(\"Informe um texto sem acentos: \")) \n",
    "    texto = texto.replace(\" \", \"\") \n",
    "    texto = texto.lower()\n",
    "    \n",
    "    while(len(texto) % 3 != 0):\n",
    "        texto += \"g\" \n",
    "    \n",
    "    print(\"o texto é: {}\".format(texto)) \n",
    "    \n",
    "    return texto "
   ]
  },
  {
   "cell_type": "code",
   "execution_count": 8,
   "metadata": {},
   "outputs": [
    {
     "name": "stdout",
     "output_type": "stream",
     "text": [
      "o texto é: maçagg\n"
     ]
    }
   ],
   "source": [
    "texto = inserirFrase()"
   ]
  },
  {
   "cell_type": "code",
   "execution_count": 9,
   "metadata": {},
   "outputs": [
    {
     "data": {
      "text/plain": [
       "'tmbtmb'"
      ]
     },
     "execution_count": 9,
     "metadata": {},
     "output_type": "execute_result"
    }
   ],
   "source": [
    "cifraHill(texto, A)"
   ]
  }
 ],
 "metadata": {
  "kernelspec": {
   "display_name": "Python 3",
   "language": "python",
   "name": "python3"
  },
  "language_info": {
   "codemirror_mode": {
    "name": "ipython",
    "version": 3
   },
   "file_extension": ".py",
   "mimetype": "text/x-python",
   "name": "python",
   "nbconvert_exporter": "python",
   "pygments_lexer": "ipython3",
   "version": "3.12.0"
  }
 },
 "nbformat": 4,
 "nbformat_minor": 2
}
